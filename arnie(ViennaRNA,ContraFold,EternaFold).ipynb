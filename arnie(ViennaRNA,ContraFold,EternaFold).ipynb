{
  "cells": [
    {
      "cell_type": "markdown",
      "metadata": {
        "id": "view-in-github",
        "colab_type": "text"
      },
      "source": [
        "<a href=\"https://colab.research.google.com/github/Biocanter/RNA_Colab_Code/blob/main/arnie(ViennaRNA%2CContraFold%2CEternaFold).ipynb\" target=\"_parent\"><img src=\"https://colab.research.google.com/assets/colab-badge.svg\" alt=\"Open In Colab\"/></a>"
      ]
    },
    {
      "cell_type": "markdown",
      "source": [
        "# **arnie(ViennaRNA, ContraFold, EternaFold)**\n",
        "\n",
        "The goal of this notebook is to install ARNIE, ViennaRNA, CONTRAfold, EternaFold on Google colab.\n",
        "https://github.com/DasLab/arnie/blob/master/docs/setup_doc.md\n",
        "- To install everything with just one click.- Click ‘Runtime’ on the top menu and select ‘Run all'"
      ],
      "metadata": {
        "id": "kIMMeXGMvdHH"
      }
    },
    {
      "cell_type": "markdown",
      "source": [
        "## **1.-Installation guide**"
      ],
      "metadata": {
        "id": "OJZsUqStysOP"
      }
    },
    {
      "cell_type": "markdown",
      "source": [
        "### **1.1.- Clone & Install ContraFold**\n",
        "https://www.kaggle.com/code/group16/generating-bpps-with-arnie\n"
      ],
      "metadata": {
        "id": "I8O68vilVnoU"
      }
    },
    {
      "cell_type": "code",
      "execution_count": null,
      "metadata": {
        "id": "ywf2c-lCLof-"
      },
      "outputs": [],
      "source": [
        "##clone and install ContraFold\n",
        "!git clone https://github.com/csfoo/contrafold-se.git\n",
        "!apt-get install -y g++-4.8\n",
        "!sed -i.bak \"1 s/^.*$/CXX = g++-4.8/\" contrafold-se/src/Makefile\n",
        "!cd contrafold-se/src; make"
      ]
    },
    {
      "cell_type": "markdown",
      "source": [
        "### **1.2.- Clone arnie**\n",
        "https://github.com/DasLab/arnie"
      ],
      "metadata": {
        "id": "w74xrPcaWBX4"
      }
    },
    {
      "cell_type": "code",
      "source": [
        "!git clone https://github.com/DasLab/arnie"
      ],
      "metadata": {
        "colab": {
          "base_uri": "https://localhost:8080/"
        },
        "id": "nTyTDuswV4Vt",
        "outputId": "05e0870a-17bf-4fb6-f073-128612049cff"
      },
      "execution_count": null,
      "outputs": [
        {
          "output_type": "stream",
          "name": "stdout",
          "text": [
            "Cloning into 'arnie'...\n",
            "remote: Enumerating objects: 509, done.\u001b[K\n",
            "remote: Counting objects:   0% (1/163)\u001b[K\rremote: Counting objects:   1% (2/163)\u001b[K\rremote: Counting objects:   2% (4/163)\u001b[K\rremote: Counting objects:   3% (5/163)\u001b[K\rremote: Counting objects:   4% (7/163)\u001b[K\rremote: Counting objects:   5% (9/163)\u001b[K\rremote: Counting objects:   6% (10/163)\u001b[K\rremote: Counting objects:   7% (12/163)\u001b[K\rremote: Counting objects:   8% (14/163)\u001b[K\rremote: Counting objects:   9% (15/163)\u001b[K\rremote: Counting objects:  10% (17/163)\u001b[K\rremote: Counting objects:  11% (18/163)\u001b[K\rremote: Counting objects:  12% (20/163)\u001b[K\rremote: Counting objects:  13% (22/163)\u001b[K\rremote: Counting objects:  14% (23/163)\u001b[K\rremote: Counting objects:  15% (25/163)\u001b[K\rremote: Counting objects:  16% (27/163)\u001b[K\rremote: Counting objects:  17% (28/163)\u001b[K\rremote: Counting objects:  18% (30/163)\u001b[K\rremote: Counting objects:  19% (31/163)\u001b[K\rremote: Counting objects:  20% (33/163)\u001b[K\rremote: Counting objects:  21% (35/163)\u001b[K\rremote: Counting objects:  22% (36/163)\u001b[K\rremote: Counting objects:  23% (38/163)\u001b[K\rremote: Counting objects:  24% (40/163)\u001b[K\rremote: Counting objects:  25% (41/163)\u001b[K\rremote: Counting objects:  26% (43/163)\u001b[K\rremote: Counting objects:  27% (45/163)\u001b[K\rremote: Counting objects:  28% (46/163)\u001b[K\rremote: Counting objects:  29% (48/163)\u001b[K\rremote: Counting objects:  30% (49/163)\u001b[K\rremote: Counting objects:  31% (51/163)\u001b[K\rremote: Counting objects:  32% (53/163)\u001b[K\rremote: Counting objects:  33% (54/163)\u001b[K\rremote: Counting objects:  34% (56/163)\u001b[K\rremote: Counting objects:  35% (58/163)\u001b[K\rremote: Counting objects:  36% (59/163)\u001b[K\rremote: Counting objects:  37% (61/163)\u001b[K\rremote: Counting objects:  38% (62/163)\u001b[K\rremote: Counting objects:  39% (64/163)\u001b[K\rremote: Counting objects:  40% (66/163)\u001b[K\rremote: Counting objects:  41% (67/163)\u001b[K\rremote: Counting objects:  42% (69/163)\u001b[K\rremote: Counting objects:  43% (71/163)\u001b[K\rremote: Counting objects:  44% (72/163)\u001b[K\rremote: Counting objects:  45% (74/163)\u001b[K\rremote: Counting objects:  46% (75/163)\u001b[K\rremote: Counting objects:  47% (77/163)\u001b[K\rremote: Counting objects:  48% (79/163)\u001b[K\rremote: Counting objects:  49% (80/163)\u001b[K\rremote: Counting objects:  50% (82/163)\u001b[K\rremote: Counting objects:  51% (84/163)\u001b[K\rremote: Counting objects:  52% (85/163)\u001b[K\rremote: Counting objects:  53% (87/163)\u001b[K\rremote: Counting objects:  54% (89/163)\u001b[K\rremote: Counting objects:  55% (90/163)\u001b[K\rremote: Counting objects:  56% (92/163)\u001b[K\rremote: Counting objects:  57% (93/163)\u001b[K\rremote: Counting objects:  58% (95/163)\u001b[K\rremote: Counting objects:  59% (97/163)\u001b[K\rremote: Counting objects:  60% (98/163)\u001b[K\rremote: Counting objects:  61% (100/163)\u001b[K\rremote: Counting objects:  62% (102/163)\u001b[K\rremote: Counting objects:  63% (103/163)\u001b[K\rremote: Counting objects:  64% (105/163)\u001b[K\rremote: Counting objects:  65% (106/163)\u001b[K\rremote: Counting objects:  66% (108/163)\u001b[K\rremote: Counting objects:  67% (110/163)\u001b[K\rremote: Counting objects:  68% (111/163)\u001b[K\rremote: Counting objects:  69% (113/163)\u001b[K\rremote: Counting objects:  70% (115/163)\u001b[K\rremote: Counting objects:  71% (116/163)\u001b[K\rremote: Counting objects:  72% (118/163)\u001b[K\rremote: Counting objects:  73% (119/163)\u001b[K\rremote: Counting objects:  74% (121/163)\u001b[K\rremote: Counting objects:  75% (123/163)\u001b[K\rremote: Counting objects:  76% (124/163)\u001b[K\rremote: Counting objects:  77% (126/163)\u001b[K\rremote: Counting objects:  78% (128/163)\u001b[K\rremote: Counting objects:  79% (129/163)\u001b[K\rremote: Counting objects:  80% (131/163)\u001b[K\rremote: Counting objects:  81% (133/163)\u001b[K\rremote: Counting objects:  82% (134/163)\u001b[K\rremote: Counting objects:  83% (136/163)\u001b[K\rremote: Counting objects:  84% (137/163)\u001b[K\rremote: Counting objects:  85% (139/163)\u001b[K\rremote: Counting objects:  86% (141/163)\u001b[K\rremote: Counting objects:  87% (142/163)\u001b[K\rremote: Counting objects:  88% (144/163)\u001b[K\rremote: Counting objects:  89% (146/163)\u001b[K\rremote: Counting objects:  90% (147/163)\u001b[K\rremote: Counting objects:  91% (149/163)\u001b[K\rremote: Counting objects:  92% (150/163)\u001b[K\rremote: Counting objects:  93% (152/163)\u001b[K\rremote: Counting objects:  94% (154/163)\u001b[K\rremote: Counting objects:  95% (155/163)\u001b[K\rremote: Counting objects:  96% (157/163)\u001b[K\rremote: Counting objects:  97% (159/163)\u001b[K\rremote: Counting objects:  98% (160/163)\u001b[K\rremote: Counting objects:  99% (162/163)\u001b[K\rremote: Counting objects: 100% (163/163)\u001b[K\rremote: Counting objects: 100% (163/163), done.\u001b[K\n",
            "remote: Compressing objects: 100% (60/60), done.\u001b[K\n",
            "remote: Total 509 (delta 114), reused 104 (delta 103), pack-reused 346\u001b[K\n",
            "Receiving objects: 100% (509/509), 4.01 MiB | 27.39 MiB/s, done.\n",
            "Resolving deltas: 100% (297/297), done.\n"
          ]
        }
      ]
    },
    {
      "cell_type": "markdown",
      "source": [
        "### **1.3.- Clone & Install EternaFold**\n",
        "https://github.com/eternagame/EternaFold"
      ],
      "metadata": {
        "id": "HaHe8nn3Wv4k"
      }
    },
    {
      "cell_type": "code",
      "source": [
        "!git clone https://github.com/eternagame/EternaFold\n",
        "!cd /content/EternaFold/src; make"
      ],
      "metadata": {
        "id": "egZK7h2oWbYN"
      },
      "execution_count": null,
      "outputs": []
    },
    {
      "cell_type": "markdown",
      "source": [
        "### **1.4.-Install Conda**\n",
        "We'll use Conda to install ViennaRNA\n",
        "\n",
        "https://anaconda.org/bioconda/viennarna\n"
      ],
      "metadata": {
        "id": "9SN3NId0W8lF"
      }
    },
    {
      "cell_type": "code",
      "source": [
        "! wget https://repo.anaconda.com/miniconda/Miniconda3-latest-Linux-x86_64.sh\n",
        "! chmod +x Miniconda3-latest-Linux-x86_64.sh\n",
        "! bash ./Miniconda3-latest-Linux-x86_64.sh -b -f -p /usr/local"
      ],
      "metadata": {
        "id": "YS_BNemuW7wT"
      },
      "execution_count": null,
      "outputs": []
    },
    {
      "cell_type": "markdown",
      "source": [
        "### **1.5.- Install ViennaRNA**\n",
        "\n",
        "https://www.tbi.univie.ac.at/RNA/"
      ],
      "metadata": {
        "id": "HFqbK0__XyO-"
      }
    },
    {
      "cell_type": "code",
      "source": [
        "!conda install -c bioconda viennarna -y"
      ],
      "metadata": {
        "id": "OGsvSBbBXwCT"
      },
      "execution_count": null,
      "outputs": []
    },
    {
      "cell_type": "markdown",
      "source": [
        "## **2.- Setup**"
      ],
      "metadata": {
        "id": "nhTuevw0Y1In"
      }
    },
    {
      "cell_type": "markdown",
      "source": [
        "### **2.1.- Tell arnie where ViennaRNA, EternaFold, ContraFold are**"
      ],
      "metadata": {
        "id": "IaG3-WbaZYOG"
      }
    },
    {
      "cell_type": "code",
      "source": [
        "import os\n",
        "import sys\n",
        "!echo \"vienna_2: /usr/local/bin\" > arnie.conf\n",
        "!echo \"eternafold: /content/EternaFold/src\" >> arnie.conf\n",
        "!echo \"contrafold_2: /content/contrafold-se/src\" >> arnie.conf\n",
        "!echo \"eternafoldparams: /content/EternaFold/parameters/EternaFoldParams.v1\" >> arnie.conf"
      ],
      "metadata": {
        "id": "cFy8zFOZKrT7"
      },
      "execution_count": null,
      "outputs": []
    },
    {
      "cell_type": "markdown",
      "source": [
        "### **2.2.- Create a temporal folder**\n",
        "Arnie will need it "
      ],
      "metadata": {
        "id": "MvO6j4jDZsr0"
      }
    },
    {
      "cell_type": "code",
      "source": [
        "###Temporal folder. ARNIE will need it\n",
        "!echo \"TMP: /content/tmp\" >> arnie.conf\n",
        "###create temporal folder\n",
        "!mkdir -p /content/tmp\n",
        "os.environ[\"ARNIEFILE\"] = f\"arnie.conf\""
      ],
      "metadata": {
        "id": "wAjvFIOUZnBb"
      },
      "execution_count": null,
      "outputs": []
    },
    {
      "cell_type": "markdown",
      "source": [
        "### **2.3.- Import Python libraries**"
      ],
      "metadata": {
        "id": "8JDZIcMkZ4jz"
      }
    },
    {
      "cell_type": "code",
      "source": [
        "%load_ext autoreload\n",
        "%autoreload 2\n",
        "%pylab inline\n",
        "#import ARNIE\n",
        "from arnie.pfunc import pfunc\n",
        "from arnie.free_energy import free_energy\n",
        "from arnie.bpps import bpps\n",
        "from arnie.mfe import mfe\n",
        "import arnie.utils as utils\n",
        "from decimal import Decimal\n",
        "from arnie.mea.mea import MEA\n",
        "##Python libraries\n",
        "import seaborn as sns\n",
        "sns.set_context('poster')\n",
        "sns.set_style('white')\n",
        "import pandas as pd\n",
        "import numpy as np"
      ],
      "metadata": {
        "colab": {
          "base_uri": "https://localhost:8080/"
        },
        "id": "3lVCT985Z3w5",
        "outputId": "04f33313-5923-4a43-ae55-483abef8e66c"
      },
      "execution_count": null,
      "outputs": [
        {
          "output_type": "stream",
          "name": "stdout",
          "text": [
            "Populating the interactive namespace from numpy and matplotlib\n"
          ]
        }
      ]
    },
    {
      "cell_type": "markdown",
      "source": [
        "## **3.- Check everything work**"
      ],
      "metadata": {
        "id": "AIbEHBaraQ3Z"
      }
    },
    {
      "cell_type": "code",
      "source": [
        "seq = 'CGCUGUCUGUACUUGUAUCAGUACACUGACGAGUCCCUAAAGGACGAAACAGCG'\n",
        "packages=['vienna_2', 'eternafold', 'contrafold_2']\n",
        "for packages in packages:\n",
        "  print (packages)\n",
        "  print (mfe(seq, package=packages))\n",
        "  print (free_energy(seq, package=packages))\n",
        "  bp_matrix=bpps(seq, package=packages)\n",
        "  plt.imshow(bp_matrix, origin='lower left', cmap='gist_heat_r')\n",
        "  plt.show()"
      ],
      "metadata": {
        "id": "PvLjBcaW4XmN",
        "colab": {
          "base_uri": "https://localhost:8080/",
          "height": 997
        },
        "outputId": "f02bdb05-2201-4e4b-dea2-f012136e6290"
      },
      "execution_count": null,
      "outputs": [
        {
          "output_type": "stream",
          "name": "stdout",
          "text": [
            "vienna_2\n",
            "((((((.((((((......)))))).......((((.....))))...))))))\n",
            "-15.92\n"
          ]
        },
        {
          "output_type": "display_data",
          "data": {
            "text/plain": [
              "<Figure size 432x288 with 1 Axes>"
            ],
            "image/png": "[encoded data removed]"
          },
          "metadata": {}
        },
        {
          "output_type": "stream",
          "name": "stdout",
          "text": [
            "eternafold\n",
            "(((((((((((((......))))))..)....((((.....))))...))))))\n",
            "-13.7489\n"
          ]
        },
        {
          "output_type": "display_data",
          "data": {
            "text/plain": [
              "<Figure size 432x288 with 1 Axes>"
            ],
            "image/png": "[encoded data removed]"
          },
          "metadata": {}
        },
        {
          "output_type": "stream",
          "name": "stdout",
          "text": [
            "contrafold_2\n",
            "(((((((((((((......))))))..)....((((.....))))...))))))\n",
            "-6.87394\n"
          ]
        },
        {
          "output_type": "display_data",
          "data": {
            "text/plain": [
              "<Figure size 432x288 with 1 Axes>"
            ],
            "image/png": "[encoded data removed]"
          },
          "metadata": {}
        }
      ]
    }
  ],
  "metadata": {
    "colab": {
      "collapsed_sections": [],
      "provenance": [],
      "mount_file_id": "1IhFaF_Wvh-5X51mLqE6G2F0Q1zD5OGAe",
      "authorship_tag": "ABX9TyPmkCJf14DbL1I3gGci3pJP",
      "include_colab_link": true
    },
    "kernelspec": {
      "display_name": "Python 3",
      "name": "python3"
    },
    "language_info": {
      "name": "python"
    }
  },
  "nbformat": 4,
  "nbformat_minor": 0
}